{
 "cells": [
  {
   "attachments": {},
   "cell_type": "markdown",
   "id": "dbf93757-cf67-44c7-9bb8-71e556bbf8d7",
   "metadata": {},
   "source": [
    "# LOAD AND INSPECT DATA"
   ]
  },
  {
   "cell_type": "code",
   "execution_count": 1,
   "id": "ef31dc8e-c6a5-495f-8729-8582dd028277",
   "metadata": {},
   "outputs": [
    {
     "name": "stdout",
     "output_type": "stream",
     "text": [
      "First few rows of the dataset:\n",
      "   ranking_year ranking_category  institute_id  \\\n",
      "0          2023           Dental   IR-N-I-1441   \n",
      "1          2023           Dental   IR-N-C-7254   \n",
      "2          2023           Dental   IR-N-I-1110   \n",
      "3          2023           Dental  IR-N-C-28507   \n",
      "4          2023           Dental  IR-N-C-19320   \n",
      "\n",
      "                                      institute_name       city        state  \\\n",
      "0  Saveetha Institute of Medical and Technical Sc...    Chennai   Tamil Nadu   \n",
      "1        Manipal College of Dental Sciences, Manipal    Manipal    Karnataka   \n",
      "2                         Dr. D. Y. Patil Vidyapeeth       Pune  Maharashtra   \n",
      "3          Maulana Azad Institute of Dental Sciences      Delhi        Delhi   \n",
      "4   A.B.Shetty Memorial Institute of Dental Sciences  Mangaluru    Karnataka   \n",
      "\n",
      "   score  rank  \n",
      "0  84.08     1  \n",
      "1  77.51     2  \n",
      "2  73.08     3  \n",
      "3  70.96     4  \n",
      "4  69.21     5  \n",
      "\n",
      "Structure of the dataset:\n",
      "<class 'pandas.core.frame.DataFrame'>\n",
      "RangeIndex: 5413 entries, 0 to 5412\n",
      "Data columns (total 8 columns):\n",
      " #   Column            Non-Null Count  Dtype  \n",
      "---  ------            --------------  -----  \n",
      " 0   ranking_year      5413 non-null   int64  \n",
      " 1   ranking_category  5413 non-null   object \n",
      " 2   institute_id      5413 non-null   object \n",
      " 3   institute_name    5413 non-null   object \n",
      " 4   city              5413 non-null   object \n",
      " 5   state             5413 non-null   object \n",
      " 6   score             5403 non-null   float64\n",
      " 7   rank              5413 non-null   int64  \n",
      "dtypes: float64(1), int64(2), object(5)\n",
      "memory usage: 338.4+ KB\n",
      "None\n",
      "\n",
      "Basic statistics of the dataset:\n",
      "        ranking_year ranking_category institute_id             institute_name  \\\n",
      "count    5413.000000             5413         5413                       5413   \n",
      "unique           NaN               13         2346                       1450   \n",
      "top              NaN      Engineering  IR-O-U-0196  Aligarh Muslim University   \n",
      "freq             NaN             1200           10                         48   \n",
      "mean     2020.129134              NaN          NaN                        NaN   \n",
      "std         2.114722              NaN          NaN                        NaN   \n",
      "min      2016.000000              NaN          NaN                        NaN   \n",
      "25%      2019.000000              NaN          NaN                        NaN   \n",
      "50%      2020.000000              NaN          NaN                        NaN   \n",
      "75%      2022.000000              NaN          NaN                        NaN   \n",
      "max      2023.000000              NaN          NaN                        NaN   \n",
      "\n",
      "           city       state        score         rank  \n",
      "count      5413        5413  5403.000000  5413.000000  \n",
      "unique      435          33          NaN          NaN  \n",
      "top     Chennai  Tamil Nadu          NaN          NaN  \n",
      "freq        375        1023          NaN          NaN  \n",
      "mean        NaN         NaN    51.257458    50.469056  \n",
      "std         NaN         NaN    11.173276    40.048326  \n",
      "min         NaN         NaN    30.310000     1.000000  \n",
      "25%         NaN         NaN    43.290000    20.000000  \n",
      "50%         NaN         NaN    50.310000    42.000000  \n",
      "75%         NaN         NaN    57.200000    73.000000  \n",
      "max         NaN         NaN    94.320000   200.000000  \n"
     ]
    }
   ],
   "source": [
    "import pandas as pd\n",
    "\n",
    "# Load the dataset\n",
    "file_path = 'nirf_data_sets.csv'  # Ensure the path is correct\n",
    "data = pd.read_csv(file_path)\n",
    "\n",
    "# Display the first few rows of the dataset\n",
    "print(\"First few rows of the dataset:\")\n",
    "print(data.head())\n",
    "\n",
    "# Display the structure of the dataset\n",
    "print(\"\\nStructure of the dataset:\")\n",
    "print(data.info())\n",
    "\n",
    "# Display basic statistics of the dataset\n",
    "print(\"\\nBasic statistics of the dataset:\")\n",
    "print(data.describe(include='all'))\n"
   ]
  },
  {
   "cell_type": "code",
   "execution_count": null,
   "id": "e27451d4-c4dd-4ed1-94b4-a126ae5ce1c7",
   "metadata": {},
   "outputs": [],
   "source": []
  },
  {
   "attachments": {},
   "cell_type": "markdown",
   "id": "9520843e-04bf-4089-af80-15cdc2c2ee4e",
   "metadata": {},
   "source": [
    "# CHECKING THE MISSING VALUES "
   ]
  },
  {
   "cell_type": "code",
   "execution_count": 2,
   "id": "cd47c18c-419a-4144-9503-9057464168b6",
   "metadata": {},
   "outputs": [
    {
     "name": "stdout",
     "output_type": "stream",
     "text": [
      "Missing values before handling:\n",
      "ranking_year         0\n",
      "ranking_category     0\n",
      "institute_id         0\n",
      "institute_name       0\n",
      "city                 0\n",
      "state                0\n",
      "score               10\n",
      "rank                 0\n",
      "dtype: int64\n",
      "\n",
      "Missing values after handling:\n",
      "ranking_year        0\n",
      "ranking_category    0\n",
      "institute_id        0\n",
      "institute_name      0\n",
      "city                0\n",
      "state               0\n",
      "score               0\n",
      "rank                0\n",
      "dtype: int64\n"
     ]
    }
   ],
   "source": [
    "import pandas as pd\n",
    "from sklearn.model_selection import train_test_split\n",
    "from sklearn.preprocessing import LabelEncoder\n",
    "from sklearn.ensemble import RandomForestRegressor\n",
    "from sklearn.metrics import mean_squared_error, r2_score\n",
    "import joblib\n",
    "\n",
    "# Load the dataset\n",
    "file_path = 'nirf_data_sets.csv'\n",
    "data = pd.read_csv(file_path)\n",
    "\n",
    "# Check for missing values\n",
    "missing_values = data.isnull().sum()\n",
    "print(\"Missing values before handling:\")\n",
    "print(missing_values)\n",
    "\n",
    "# Handle missing values\n",
    "data = data.dropna(subset=['score'])\n",
    "\n",
    "# Check for missing values after handling\n",
    "missing_values_after = data.isnull().sum()\n",
    "print(\"\\nMissing values after handling:\")\n",
    "print(missing_values_after)\n"
   ]
  },
  {
   "attachments": {},
   "cell_type": "markdown",
   "id": "4c69c725-4edc-4a42-9e84-4d01130adc51",
   "metadata": {},
   "source": [
    "# Descriptive Statistics"
   ]
  },
  {
   "attachments": {},
   "cell_type": "markdown",
   "id": "03b51bd4-8253-4507-bd44-775a8ce52ef4",
   "metadata": {},
   "source": [
    "\n",
    "# HANDLING MISSING VALUES "
   ]
  },
  {
   "cell_type": "code",
   "execution_count": 3,
   "id": "f5c6050b-614d-4a8d-8b32-fbb687d235a0",
   "metadata": {},
   "outputs": [],
   "source": [
    "data_cleaned = data.dropna(subset=['score'])\n"
   ]
  },
  {
   "cell_type": "code",
   "execution_count": 4,
   "id": "7cb8b979-efdf-4b43-b23e-0a0cf13a550a",
   "metadata": {},
   "outputs": [],
   "source": [
    "# Handle missing values by dropping rows with missing score values\n",
    "data = data.dropna(subset=['score'])\n"
   ]
  },
  {
   "cell_type": "code",
   "execution_count": 5,
   "id": "80ddab59-128e-471f-bc26-833df4142649",
   "metadata": {},
   "outputs": [
    {
     "name": "stdout",
     "output_type": "stream",
     "text": [
      "        ranking_year ranking_category institute_id             institute_name  \\\n",
      "count    5403.000000             5403         5403                       5403   \n",
      "unique           NaN               12         2336                       1440   \n",
      "top              NaN      Engineering  IR-O-U-0196  Aligarh Muslim University   \n",
      "freq             NaN             1200           10                         48   \n",
      "mean     2020.123820              NaN          NaN                        NaN   \n",
      "std         2.113065              NaN          NaN                        NaN   \n",
      "min      2016.000000              NaN          NaN                        NaN   \n",
      "25%      2019.000000              NaN          NaN                        NaN   \n",
      "50%      2020.000000              NaN          NaN                        NaN   \n",
      "75%      2022.000000              NaN          NaN                        NaN   \n",
      "max      2023.000000              NaN          NaN                        NaN   \n",
      "\n",
      "           city       state        score         rank  \n",
      "count      5403        5403  5403.000000  5403.000000  \n",
      "unique      435          33          NaN          NaN  \n",
      "top     Chennai  Tamil Nadu          NaN          NaN  \n",
      "freq        373        1021          NaN          NaN  \n",
      "mean        NaN         NaN    51.257458    50.552471  \n",
      "std         NaN         NaN    11.173276    40.038185  \n",
      "min         NaN         NaN    30.310000     1.000000  \n",
      "25%         NaN         NaN    43.290000    20.000000  \n",
      "50%         NaN         NaN    50.310000    42.000000  \n",
      "75%         NaN         NaN    57.200000    73.000000  \n",
      "max         NaN         NaN    94.320000   200.000000  \n"
     ]
    }
   ],
   "source": [
    "# Get descriptive statistics of the dataset, including both numerical and categorical features\n",
    "desc_stats = data.describe(include='all')\n",
    "print(desc_stats)\n"
   ]
  },
  {
   "attachments": {},
   "cell_type": "markdown",
   "id": "7c9283bb-445e-4690-8cf7-16af383ac8ca",
   "metadata": {},
   "source": [
    "# Convert Categorical Variables"
   ]
  },
  {
   "cell_type": "code",
   "execution_count": 6,
   "id": "660d98ec-857a-48aa-bdb7-062b6003eab0",
   "metadata": {},
   "outputs": [
    {
     "name": "stdout",
     "output_type": "stream",
     "text": [
      "Label encoders saved successfully.\n",
      "   ranking_year  ranking_category  institute_id  institute_name  city  state  \\\n",
      "0          2023                 3          1211            1138    70     27   \n",
      "1          2023                 3          1208             804   255     14   \n",
      "2          2023                 3          1210             275   319     17   \n",
      "3          2023                 3          1186             826    83      7   \n",
      "4          2023                 3          1184               1   254     14   \n",
      "\n",
      "   score  rank  \n",
      "0  84.08     1  \n",
      "1  77.51     2  \n",
      "2  73.08     3  \n",
      "3  70.96     4  \n",
      "4  69.21     5  \n"
     ]
    }
   ],
   "source": [
    "import pandas as pd\n",
    "from sklearn.preprocessing import LabelEncoder\n",
    "import pickle\n",
    "\n",
    "# # Load the dataset\n",
    "# file_path = 'nirf_data_sets.csv'\n",
    "# data = pd.read_csv(file_path)\n",
    "\n",
    "# Initialize a dictionary to store label encoders for each column\n",
    "label_encoders = {}\n",
    "\n",
    "# Categorical columns to encode, including institute_id\n",
    "categorical_columns = ['ranking_category', 'institute_name', 'city', 'state',  'institute_id']\n",
    "\n",
    "# Encode categorical variables\n",
    "for column in categorical_columns:\n",
    "    le = LabelEncoder()\n",
    "    data[column] = le.fit_transform(data[column])\n",
    "    label_encoders[column] = le\n",
    "\n",
    "# Save the label encoders for future use\n",
    "with open('label_encoders.pkl', 'wb') as le_file:\n",
    "    pickle.dump(label_encoders, le_file)\n",
    "\n",
    "print(\"Label encoders saved successfully.\")\n",
    "\n",
    "# Verify the encoded data\n",
    "print(data.head())\n"
   ]
  },
  {
   "cell_type": "code",
   "execution_count": null,
   "id": "edf109c8-c230-4d7b-8a77-34fc14bf51ad",
   "metadata": {},
   "outputs": [],
   "source": []
  },
  {
   "attachments": {},
   "cell_type": "markdown",
   "id": "29a345a7-33d4-4df0-9241-6b8a6fce2af3",
   "metadata": {},
   "source": [
    "# DATA VISUALIZATION"
   ]
  },
  {
   "cell_type": "code",
   "execution_count": 7,
   "id": "be7f7234-c63e-4f1e-b650-1d4aa195ac96",
   "metadata": {},
   "outputs": [],
   "source": [
    "import matplotlib.pyplot as plt\n",
    "import seaborn as sns\n",
    "import pandas as pd\n",
    "\n",
    "# Load the dataset\n",
    "file_path = 'nirf_data_sets.csv'\n",
    "data = pd.read_csv(file_path)\n",
    "\n",
    "# Distribution of Ranks\n",
    "plt.figure(figsize=(10, 6))\n",
    "sns.histplot(data['rank'], bins=30, kde=True)\n",
    "plt.title('Distribution of Ranks')\n",
    "plt.xlabel('Rank')\n",
    "plt.ylabel('Frequency')\n",
    "plt.savefig('static/images/rank_distribution.png')\n",
    "plt.close()\n",
    "\n",
    "# Distribution of Scores\n",
    "plt.figure(figsize=(10, 6))\n",
    "sns.histplot(data['score'], bins=30, kde=True)\n",
    "plt.title('Distribution of Scores')\n",
    "plt.xlabel('Score')\n",
    "plt.ylabel('Frequency')\n",
    "plt.savefig('static/images/score_distribution.png')\n",
    "plt.close()\n",
    "\n",
    "# Select only numeric columns for the correlation heatmap\n",
    "numeric_data = data.select_dtypes(include=[float, int])\n",
    "\n",
    "# Correlation Heatmap\n",
    "plt.figure(figsize=(12, 8))\n",
    "sns.heatmap(numeric_data.corr(), annot=True, cmap='coolwarm', vmin=-1, vmax=1, center=0)\n",
    "plt.title('Correlation Heatmap')\n",
    "plt.savefig('static/images/correlation_heatmap.png')\n",
    "plt.close()\n",
    "\n",
    "# Bar chart of average scores by ranking category\n",
    "plt.figure(figsize=(12, 6))\n",
    "average_scores_by_category = data.groupby('ranking_category')['score'].mean().sort_values()\n",
    "sns.barplot(x=average_scores_by_category.index, y=average_scores_by_category.values)\n",
    "plt.title('Average Scores by Ranking Category')\n",
    "plt.xlabel('Ranking Category')\n",
    "plt.ylabel('Average Score')\n",
    "plt.xticks(rotation=45)\n",
    "plt.savefig('static/images/average_scores_by_category.png')\n",
    "plt.close()\n",
    "\n",
    "# Pie chart of institutes by state\n",
    "plt.figure(figsize=(12, 8))\n",
    "institutes_by_state = data['state'].value_counts()\n",
    "plt.pie(institutes_by_state, labels=institutes_by_state.index, autopct='%1.1f%%', startangle=140)\n",
    "plt.title('Distribution of Institutes by State')\n",
    "plt.axis('equal')  # Equal aspect ratio ensures that pie is drawn as a circle.\n",
    "plt.savefig('static/images/institutes_by_state.png')\n",
    "plt.close()\n"
   ]
  },
  {
   "cell_type": "code",
   "execution_count": null,
   "id": "ade2f677-da89-41c9-b287-856c38d68382",
   "metadata": {},
   "outputs": [],
   "source": []
  },
  {
   "attachments": {},
   "cell_type": "markdown",
   "id": "15fa67db-8df0-4888-956f-520dce4d0c20",
   "metadata": {},
   "source": [
    "# Data Preparation for Modeling"
   ]
  },
  {
   "cell_type": "code",
   "execution_count": 8,
   "id": "f41c7fc7-dd64-44a2-88c0-c3c4c177f017",
   "metadata": {},
   "outputs": [
    {
     "name": "stdout",
     "output_type": "stream",
     "text": [
      "10\n"
     ]
    }
   ],
   "source": [
    "print(data['score'].isnull().sum())\n"
   ]
  },
  {
   "attachments": {},
   "cell_type": "markdown",
   "id": "b513f661-064e-476b-b84f-6d9d436b4bb1",
   "metadata": {},
   "source": [
    "# FETURE SCALING"
   ]
  },
  {
   "cell_type": "code",
   "execution_count": 9,
   "id": "2faf1f0b-24c3-47b1-aafd-4db2ee55e5a9",
   "metadata": {},
   "outputs": [],
   "source": [
    "# Define the features and target variable\n",
    "features = data.drop(columns=['score'])  # Drop 'score' from features, keep 'rank' as a feature\n",
    "target = data['score']  # Set 'score' as the target variable\n"
   ]
  },
  {
   "cell_type": "code",
   "execution_count": 10,
   "id": "4ff60987-55bd-4630-a610-4c6b3bc84d54",
   "metadata": {},
   "outputs": [],
   "source": [
    "data = data.dropna(subset=['score'])\n"
   ]
  },
  {
   "cell_type": "code",
   "execution_count": 11,
   "id": "746ebf64-e0c4-4e1c-b8f0-52428614099c",
   "metadata": {},
   "outputs": [
    {
     "name": "stdout",
     "output_type": "stream",
     "text": [
      "Label encoders saved successfully.\n",
      "   ranking_year  ranking_category  institute_id  institute_name      city  \\\n",
      "0          2023         -1.039642      0.195979            1138 -1.089130   \n",
      "1          2023         -1.039642      0.190208             804  0.387806   \n",
      "2          2023         -1.039642      0.194055             275  0.898747   \n",
      "3          2023         -1.039642      0.147891             826 -0.985345   \n",
      "4          2023         -1.039642      0.144044               1  0.379823   \n",
      "\n",
      "      state  score      rank  \n",
      "0  0.910736  84.08 -1.237745  \n",
      "1 -0.519862  77.51 -1.212766  \n",
      "2 -0.189724  73.08 -1.187788  \n",
      "3 -1.290184  70.96 -1.162809  \n",
      "4 -0.519862  69.21 -1.137831  \n",
      "Scaler saved successfully.\n"
     ]
    }
   ],
   "source": [
    "import pandas as pd\n",
    "from sklearn.preprocessing import LabelEncoder, StandardScaler\n",
    "import pickle\n",
    "import joblib\n",
    "\n",
    "# Load the dataset\n",
    "# file_path = 'nirf_data_sets.csv'\n",
    "# data = pd.read_csv(file_path)\n",
    "\n",
    "# Initialize a dictionary to store label encoders for each column\n",
    "label_encoders = {}\n",
    "\n",
    "# Categorical columns to encode, including institute_id\n",
    "categorical_columns = ['ranking_category', 'institute_name', 'city', 'state', 'institute_id']\n",
    "\n",
    "# Encode categorical variables\n",
    "for column in categorical_columns:\n",
    "    le = LabelEncoder()\n",
    "    data[column] = le.fit_transform(data[column])\n",
    "    label_encoders[column] = le\n",
    "\n",
    "# Save the label encoders for future use\n",
    "with open('label_encoders.pkl', 'wb') as le_file:\n",
    "    pickle.dump(label_encoders, le_file)\n",
    "print(\"Label encoders saved successfully.\")\n",
    "\n",
    "# Select numerical features (adjust as per your dataset)\n",
    "numerical_features = ['institute_id', 'city', 'state', 'ranking_category','rank']\n",
    "\n",
    "# Initialize the scaler\n",
    "scaler = StandardScaler()\n",
    "\n",
    "# Standardize numerical features\n",
    "data[numerical_features] = scaler.fit_transform(data[numerical_features])\n",
    "\n",
    "# Display the first few rows to see the changes\n",
    "print(data.head())\n",
    "\n",
    "# Save the scaler for future use\n",
    "joblib.dump(scaler, 'scaler.pkl')\n",
    "print(\"Scaler saved successfully.\")\n"
   ]
  },
  {
   "cell_type": "code",
   "execution_count": 12,
   "id": "67cb95b6-bccf-4797-aab1-ef356502293b",
   "metadata": {},
   "outputs": [
    {
     "name": "stdout",
     "output_type": "stream",
     "text": [
      "X_train shape: (4322, 7)\n",
      "X_test shape: (1081, 7)\n",
      "y_train shape: (4322,)\n",
      "y_test shape: (1081,)\n"
     ]
    }
   ],
   "source": [
    "import pandas as pd\n",
    "from sklearn.model_selection import train_test_split\n",
    "\n",
    "# Load the dataset (assuming 'data' has already been label-encoded and standardized)\n",
    "file_path = 'nirf_data_sets.csv'\n",
    "data = pd.read_csv(file_path)\n",
    "\n",
    "# Remove rows with missing target values\n",
    "data = data.dropna(subset=['score'])  # Drop rows where 'score' is NaN\n",
    "\n",
    "# Define the features and target variable\n",
    "features = data.drop(columns=['score'])  # Drop only 'score' from features, keep 'rank' as a feature if needed\n",
    "target = data['score']  # Set 'score' as the target variable\n",
    "\n",
    "# Split data into training and test sets\n",
    "X_train, X_test, y_train, y_test = train_test_split(features, target, test_size=0.2, random_state=42)\n",
    "\n",
    "# Display the shapes of the splits to confirm\n",
    "print(f'X_train shape: {X_train.shape}')\n",
    "print(f'X_test shape: {X_test.shape}')\n",
    "print(f'y_train shape: {y_train.shape}')\n",
    "print(f'y_test shape: {y_test.shape}')\n"
   ]
  },
  {
   "attachments": {},
   "cell_type": "markdown",
   "id": "daf6e031-1b44-4a67-9f05-df6525fc0cbc",
   "metadata": {},
   "source": [
    "# Model Building, Training, and Testing"
   ]
  },
  {
   "cell_type": "code",
   "execution_count": 13,
   "id": "c7f884ae-516d-49f2-922e-37debacb6eed",
   "metadata": {},
   "outputs": [
    {
     "name": "stdout",
     "output_type": "stream",
     "text": [
      "Scaler saved successfully.\n",
      "Mean Squared Error: 5.470610704525968\n",
      "R^2 Score: 0.9596662295070839\n",
      "Model saved successfully.\n"
     ]
    }
   ],
   "source": [
    "import pandas as pd\n",
    "from sklearn.preprocessing import LabelEncoder, StandardScaler\n",
    "from sklearn.model_selection import train_test_split\n",
    "from sklearn.ensemble import RandomForestRegressor\n",
    "from sklearn.metrics import mean_squared_error, r2_score\n",
    "import joblib\n",
    "import pickle\n",
    "\n",
    "# Load the dataset\n",
    "# file_path = 'nirf_data_sets.csv'\n",
    "# data = pd.read_csv(file_path)\n",
    "\n",
    "# Remove rows with missing target values\n",
    "data = data.dropna(subset=['score'])\n",
    "\n",
    "# Initialize a dictionary to store label encoders for each column\n",
    "label_encoders = {}\n",
    "\n",
    "# Categorical columns to encode\n",
    "categorical_columns = ['ranking_category', 'institute_id', 'institute_name', 'city', 'state']\n",
    "\n",
    "# Encode categorical variables\n",
    "for column in categorical_columns:\n",
    "    le = LabelEncoder()\n",
    "    data[column] = le.fit_transform(data[column])\n",
    "    label_encoders[column] = le\n",
    "\n",
    "# Save the label encoders for future use\n",
    "with open('label_encoders.pkl', 'wb') as le_file:\n",
    "    pickle.dump(label_encoders, le_file)\n",
    "\n",
    "# Select numerical features to standardize\n",
    "numerical_features = ['institute_id', 'city', 'state', 'ranking_category', 'rank']\n",
    "\n",
    "# Initialize the scaler\n",
    "scaler = StandardScaler()\n",
    "\n",
    "# Standardize numerical features\n",
    "data[numerical_features] = scaler.fit_transform(data[numerical_features])\n",
    "\n",
    "# Save the scaler for future use\n",
    "joblib.dump(scaler, 'scaler.pkl')\n",
    "print(\"Scaler saved successfully.\")\n",
    "\n",
    "# Define the features and target variable\n",
    "features = data[numerical_features]\n",
    "target = data['score']  # Set 'score' as the target variable\n",
    "\n",
    "# Split data into training and test sets\n",
    "X_train, X_test, y_train, y_test = train_test_split(features, target, test_size=0.2, random_state=42)\n",
    "\n",
    "# Initialize the model\n",
    "model = RandomForestRegressor(n_estimators=100, random_state=42)\n",
    "\n",
    "# Train the model\n",
    "model.fit(X_train, y_train)\n",
    "\n",
    "# Predict on the test set\n",
    "y_pred = model.predict(X_test)\n",
    "\n",
    "# Evaluate the model without rounding predictions\n",
    "mse = mean_squared_error(y_test, y_pred)\n",
    "r2 = r2_score(y_test, y_pred)\n",
    "\n",
    "print(f'Mean Squared Error: {mse}')\n",
    "print(f'R^2 Score: {r2}')\n",
    "\n",
    "# Save the trained model for future use\n",
    "with open('model.pkl', 'wb') as model_file:\n",
    "    pickle.dump(model, model_file)\n",
    "print(\"Model saved successfully.\")\n"
   ]
  },
  {
   "cell_type": "code",
   "execution_count": 14,
   "id": "de758768-6fcc-40da-8565-0307afa38007",
   "metadata": {},
   "outputs": [
    {
     "name": "stdout",
     "output_type": "stream",
     "text": [
      "Linear Regression - Mean Squared Error: 49.45520285000096\n",
      "Linear Regression - R^2 Score: 0.6353762113282391\n"
     ]
    }
   ],
   "source": [
    "from sklearn.linear_model import LinearRegression\n",
    "\n",
    "# Initialize the model\n",
    "model = LinearRegression()\n",
    "\n",
    "# Train the model\n",
    "model.fit(X_train, y_train)\n",
    "\n",
    "# Predict on the test set\n",
    "y_pred = model.predict(X_test)\n",
    "\n",
    "# Evaluate the model\n",
    "mse = mean_squared_error(y_test, y_pred)\n",
    "r2 = r2_score(y_test, y_pred)\n",
    "\n",
    "print(f'Linear Regression - Mean Squared Error: {mse}')\n",
    "print(f'Linear Regression - R^2 Score: {r2}')\n"
   ]
  },
  {
   "cell_type": "code",
   "execution_count": 15,
   "id": "e0c2750f-f63b-4085-b8f9-b93af7326b32",
   "metadata": {},
   "outputs": [
    {
     "name": "stdout",
     "output_type": "stream",
     "text": [
      "Decision Tree Regression - Mean Squared Error: 8.335681468316375\n",
      "Decision Tree Regression - R^2 Score: 0.9385426086036478\n"
     ]
    }
   ],
   "source": [
    "from sklearn.tree import DecisionTreeRegressor\n",
    "\n",
    "# Initialize the model\n",
    "model = DecisionTreeRegressor(random_state=42)\n",
    "\n",
    "# Train the model\n",
    "model.fit(X_train, y_train)\n",
    "\n",
    "# Predict on the test set\n",
    "y_pred = model.predict(X_test)\n",
    "\n",
    "# Evaluate the model\n",
    "mse = mean_squared_error(y_test, y_pred)\n",
    "r2 = r2_score(y_test, y_pred)\n",
    "\n",
    "print(f'Decision Tree Regression - Mean Squared Error: {mse}')\n",
    "print(f'Decision Tree Regression - R^2 Score: {r2}')\n"
   ]
  },
  {
   "cell_type": "code",
   "execution_count": 16,
   "id": "3f4c6a9c-532b-4207-88e6-f53fdf6c0e34",
   "metadata": {},
   "outputs": [
    {
     "name": "stdout",
     "output_type": "stream",
     "text": [
      "Support Vector Regression - Mean Squared Error: 52.06418223535649\n",
      "Support Vector Regression - R^2 Score: 0.6161407033688406\n"
     ]
    }
   ],
   "source": [
    "# SUPORT VECTOR METHOD\n",
    "\n",
    "from sklearn.svm import SVR \n",
    "\n",
    "# Initialize the model\n",
    "model = SVR(kernel='linear')\n",
    "\n",
    "# Train the model\n",
    "model.fit(X_train, y_train)\n",
    "\n",
    "# Predict on the test set\n",
    "y_pred = model.predict(X_test)\n",
    "\n",
    "# Evaluate the model\n",
    "mse = mean_squared_error(y_test, y_pred)\n",
    "r2 = r2_score(y_test, y_pred)\n",
    "\n",
    "print(f'Support Vector Regression - Mean Squared Error: {mse}')\n",
    "print(f'Support Vector Regression - R^2 Score: {r2}')\n"
   ]
  },
  {
   "cell_type": "code",
   "execution_count": 17,
   "id": "5a4bff6a-384a-4cc3-88d3-a22406c026aa",
   "metadata": {},
   "outputs": [
    {
     "name": "stdout",
     "output_type": "stream",
     "text": [
      "Gradient Boosting Regression - Mean Squared Error: 5.664113558178169\n",
      "Gradient Boosting Regression - R^2 Score: 0.9582395698322371\n"
     ]
    }
   ],
   "source": [
    "from sklearn.ensemble import GradientBoostingRegressor\n",
    "\n",
    "# Initialize the model\n",
    "model = GradientBoostingRegressor(n_estimators=100, random_state=42)\n",
    "\n",
    "# Train the model\n",
    "model.fit(X_train, y_train)\n",
    "\n",
    "# Predict on the test set\n",
    "y_pred = model.predict(X_test)\n",
    "\n",
    "# Evaluate the model\n",
    "mse = mean_squared_error(y_test, y_pred)\n",
    "r2 = r2_score(y_test, y_pred)\n",
    "\n",
    "print(f'Gradient Boosting Regression - Mean Squared Error: {mse}')\n",
    "print(f'Gradient Boosting Regression - R^2 Score: {r2}')\n"
   ]
  },
  {
   "cell_type": "code",
   "execution_count": 18,
   "id": "9292a492-71f0-4a1d-90e6-fb3110f1d70c",
   "metadata": {},
   "outputs": [
    {
     "name": "stdout",
     "output_type": "stream",
     "text": [
      "K-Nearest Neighbors Regression - Mean Squared Error: 18.199037404329324\n",
      "K-Nearest Neighbors Regression - R^2 Score: 0.8658219644013547\n"
     ]
    }
   ],
   "source": [
    "from sklearn.neighbors import KNeighborsRegressor\n",
    "\n",
    "# Initialize the model\n",
    "model = KNeighborsRegressor(n_neighbors=5)\n",
    "\n",
    "# Train the model\n",
    "model.fit(X_train, y_train)\n",
    "\n",
    "# Predict on the test set\n",
    "y_pred = model.predict(X_test)\n",
    "\n",
    "# Evaluate the model\n",
    "mse = mean_squared_error(y_test, y_pred)\n",
    "r2 = r2_score(y_test, y_pred)\n",
    "\n",
    "print(f'K-Nearest Neighbors Regression - Mean Squared Error: {mse}')\n",
    "print(f'K-Nearest Neighbors Regression - R^2 Score: {r2}')\n"
   ]
  },
  {
   "cell_type": "code",
   "execution_count": 19,
   "id": "6e2bf7ec-f831-42df-9f1a-18651e18a9ff",
   "metadata": {},
   "outputs": [
    {
     "name": "stdout",
     "output_type": "stream",
     "text": [
      "Ridge Regression - Mean Squared Error: 49.45799376809207\n",
      "Ridge Regression - R^2 Score: 0.6353556344208642\n"
     ]
    }
   ],
   "source": [
    "from sklearn.linear_model import Ridge\n",
    "\n",
    "# Initialize the model\n",
    "model = Ridge(alpha=1.0)\n",
    "\n",
    "# Train the model\n",
    "model.fit(X_train, y_train)\n",
    "\n",
    "# Predict on the test set\n",
    "y_pred = model.predict(X_test)\n",
    "\n",
    "# Evaluate the model\n",
    "mse = mean_squared_error(y_test, y_pred)\n",
    "r2 = r2_score(y_test, y_pred)\n",
    "\n",
    "print(f'Ridge Regression - Mean Squared Error: {mse}')\n",
    "print(f'Ridge Regression - R^2 Score: {r2}')\n"
   ]
  },
  {
   "cell_type": "code",
   "execution_count": 20,
   "id": "0804e04f-b36c-4bcb-9d9b-cf6ee9cbe708",
   "metadata": {},
   "outputs": [
    {
     "name": "stdout",
     "output_type": "stream",
     "text": [
      "Lasso Regression - Mean Squared Error: 49.750785126982976\n",
      "Lasso Regression - R^2 Score: 0.6331969395128084\n"
     ]
    }
   ],
   "source": [
    "from sklearn.linear_model import Lasso\n",
    "\n",
    "# Initialize the model\n",
    "model = Lasso(alpha=0.1)\n",
    "\n",
    "# Train the model\n",
    "model.fit(X_train, y_train)\n",
    "\n",
    "# Predict on the test set\n",
    "y_pred = model.predict(X_test)\n",
    "\n",
    "# Evaluate the model\n",
    "mse = mean_squared_error(y_test, y_pred)\n",
    "r2 = r2_score(y_test, y_pred)\n",
    "\n",
    "print(f'Lasso Regression - Mean Squared Error: {mse}')\n",
    "print(f'Lasso Regression - R^2 Score: {r2}')\n"
   ]
  },
  {
   "cell_type": "code",
   "execution_count": null,
   "id": "b2074031-95ba-4fdc-8902-3f3463802d1b",
   "metadata": {},
   "outputs": [],
   "source": []
  },
  {
   "cell_type": "code",
   "execution_count": null,
   "id": "f6b45807-b557-450c-842b-49f11fd5d2b9",
   "metadata": {},
   "outputs": [],
   "source": [
    "\n"
   ]
  }
 ],
 "metadata": {
  "kernelspec": {
   "display_name": "Python 3 (ipykernel)",
   "language": "python",
   "name": "python3"
  },
  "language_info": {
   "codemirror_mode": {
    "name": "ipython",
    "version": 3
   },
   "file_extension": ".py",
   "mimetype": "text/x-python",
   "name": "python",
   "nbconvert_exporter": "python",
   "pygments_lexer": "ipython3",
   "version": "3.12.2"
  }
 },
 "nbformat": 4,
 "nbformat_minor": 5
}
